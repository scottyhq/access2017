{
 "cells": [
  {
   "cell_type": "markdown",
   "metadata": {},
   "source": [
    "# Experiment with getting sentinel-1 data from Earthdata Search (CMR API)\n",
    "\n",
    "\n",
    "Details on forming your own URL search query:\n",
    "https://cmr.earthdata.nasa.gov/search/site/docs/search/api.html#granule-search-by-parameters\n",
    "\n",
    "Several Python APIs already exists for contructing queries and managing results:\n",
    "https://github.com/jddeal/python-cmr \n",
    "\n",
    "Also a NASA variant:\n",
    "https://github.com/nasa/pyCMR "
   ]
  },
  {
   "cell_type": "markdown",
   "metadata": {},
   "source": [
    "# python-cmr"
   ]
  },
  {
   "cell_type": "code",
   "execution_count": 1,
   "metadata": {},
   "outputs": [],
   "source": [
    "from cmr import CollectionQuery, GranuleQuery"
   ]
  },
  {
   "cell_type": "code",
   "execution_count": 2,
   "metadata": {},
   "outputs": [
    {
     "name": "stdout",
     "output_type": "stream",
     "text": [
      "ASF returns 3 collections\n",
      "ALOS PALSAR Level 1.1\n",
      "ALOS PALSAR Level 1.5\n",
      "ALOS PALSAR Level 1.0\n"
     ]
    },
    {
     "data": {
      "text/plain": [
       "[None, None, None]"
      ]
     },
     "execution_count": 2,
     "metadata": {},
     "output_type": "execute_result"
    }
   ],
   "source": [
    "api = CollectionQuery()\n",
    "daacs = ['ASF']\n",
    "\n",
    "for daac in daacs:\n",
    "    collections = api.archive_center(daac).keyword('*').get(2000)\n",
    "    print(daac, 'returns', len(collections), 'collections')\n",
    "    \n",
    "# Collections\n",
    "[print(x['summary']) for x in collections]"
   ]
  },
  {
   "cell_type": "code",
   "execution_count": 3,
   "metadata": {},
   "outputs": [
    {
     "name": "stdout",
     "output_type": "stream",
     "text": [
      "SC:AST_L1T.003:2149105822\n",
      "SC:AST_L1T.003:2149105820\n",
      "SC:AST_L1T.003:2149155037\n"
     ]
    }
   ],
   "source": [
    "# Test with example from documentation\n",
    "api = GranuleQuery()\n",
    "granules = api.short_name(\"AST_L1T\").point(-112.73, 42.5).get(3)\n",
    "for granule in granules:\n",
    "    print(granule[\"title\"])"
   ]
  },
  {
   "cell_type": "code",
   "execution_count": 4,
   "metadata": {},
   "outputs": [
    {
     "name": "stdout",
     "output_type": "stream",
     "text": [
      "35\n"
     ]
    }
   ],
   "source": [
    "# NOTE: not all scenes sorted into 'collections'. Sentinel-1 available via granule search\n",
    "# Granule query for sentinel-1 data\n",
    "api = GranuleQuery()\n",
    "#api.archive_center(\"ASF\") #only collection search\n",
    "api.bounding_box(-122.4, 47.4, -122.1, 47.7) #seattle\n",
    "api.temporal(\"2017-10-10T00:00:00Z\", \"2018-01-07T00:00:00Z\")\n",
    "#api.platform(\"SENTINEL-1A\")\n",
    "#api.instrument(\"SENTINEL-1 C-SAR\")\n",
    "#api.short_name(\"SENTINEL*\") #product short name\n",
    "api.entry_title('SENTINEL-1B_SLC')\n",
    "\n",
    "# Summary of Sentinel SLC data set: (note itself a CMR query)\n",
    "#https://cmr.earthdata.nasa.gov/search/concepts/C1214470488-ASF.html?token=568bf7f18164b928e5afcdbf567cdb67d5bd29e52271d0e9fe0da7eb6b2c1add:ZizV3PCdydlPQLBdbvADkA\n",
    "#api.parameters(\n",
    "#    short_name=\"SENTINEL*\",\n",
    "#)\n",
    "\n",
    "print(api.hits())"
   ]
  },
  {
   "cell_type": "code",
   "execution_count": 5,
   "metadata": {},
   "outputs": [
    {
     "name": "stdout",
     "output_type": "stream",
     "text": [
      "1\n"
     ]
    },
    {
     "data": {
      "text/plain": [
       "{'browse_flag': False,\n",
       " 'coordinate_system': 'GEODETIC',\n",
       " 'data_center': 'ASF',\n",
       " 'dataset_id': 'SENTINEL-1B_SLC',\n",
       " 'day_night_flag': 'UNSPECIFIED',\n",
       " 'granule_size': '4480.759',\n",
       " 'id': 'G1427183289-ASF',\n",
       " 'links': [{'href': 'https://datapool.asf.alaska.edu/SLC/SB/S1B_IW_SLC__1SDV_20171012T015310_20171012T015338_007790_00DC24_4ABE.zip',\n",
       "   'hreflang': 'en-US',\n",
       "   'rel': 'http://esipfed.org/ns/fedsearch/1.1/data#'},\n",
       "  {'href': 'https://vertex.daac.asf.alaska.edu/',\n",
       "   'hreflang': 'en-US',\n",
       "   'inherited': True,\n",
       "   'rel': 'http://esipfed.org/ns/fedsearch/1.1/data#'}],\n",
       " 'online_access_flag': True,\n",
       " 'orbit_calculated_spatial_domains': [{'orbit_number': '7790'}],\n",
       " 'original_format': 'ECHO10',\n",
       " 'polygons': [['46.882545 -122.173874 47.280518 -118.833061 48.954056 -119.217827 48.554779 -122.671318 46.882545 -122.173874']],\n",
       " 'producer_granule_id': 'S1B_IW_SLC__1SDV_20171012T015310_20171012T015338_007790_00DC24_4ABE',\n",
       " 'time_end': '2017-10-12T01:53:38.000Z',\n",
       " 'time_start': '2017-10-12T01:53:10.000Z',\n",
       " 'title': 'S1B_IW_SLC__1SDV_20171012T015310_20171012T015338_007790_00DC24_4ABE-SLC',\n",
       " 'updated': '2017-10-14T15:53:12.000Z'}"
      ]
     },
     "execution_count": 5,
     "metadata": {},
     "output_type": "execute_result"
    }
   ],
   "source": [
    "granule = api.get(1)\n",
    "print(len(granule))\n",
    "test = granule[0]\n",
    "test\n",
    "# Note different return compared to pyCMR section below"
   ]
  },
  {
   "cell_type": "code",
   "execution_count": 6,
   "metadata": {},
   "outputs": [],
   "source": [
    "# Hmmm.. not working. Here is the URL from Earthdata graphical search \"CMR Endpoint\"\n",
    "#https://cmr.earthdata.nasa.gov:443/search/granules.json?\n",
    "#        bounding_box=-122.4%2C47.4%2C-122.1%2C47.7\n",
    "#        &echo_collection_id=C1214470488-ASF\n",
    "#        &sort_key%5B%5D=-start_date\n",
    "#        &page_size=20\"\n",
    "\n",
    "# I suspect 'echo_collection_id' is for metadata that isn't yet in CMR ideal format?"
   ]
  },
  {
   "cell_type": "code",
   "execution_count": 7,
   "metadata": {},
   "outputs": [],
   "source": [
    "#api.echo_collection_id('C1214470488-ASF')\n",
    "# Error"
   ]
  },
  {
   "cell_type": "code",
   "execution_count": 8,
   "metadata": {},
   "outputs": [
    {
     "name": "stdout",
     "output_type": "stream",
     "text": [
      "1\n"
     ]
    }
   ],
   "source": [
    "# Or for a single SLC on Earthdata search\n",
    "#GranuleUR: S1A_IW_SLC__1SSV_20170211T141311_20170211T141339_015237_018F50_4FC8-SLC\n",
    "api = GranuleQuery()\n",
    "api.granule_ur('S1A_IW_SLC__1SSV_20170211T141311_20170211T141339_015237_018F50_4FC8-SLC')\n",
    "print(api.hits())"
   ]
  },
  {
   "cell_type": "code",
   "execution_count": 9,
   "metadata": {},
   "outputs": [],
   "source": [
    "granule = api.get(1)"
   ]
  },
  {
   "cell_type": "code",
   "execution_count": 10,
   "metadata": {},
   "outputs": [
    {
     "data": {
      "text/plain": [
       "[{'browse_flag': False,\n",
       "  'coordinate_system': 'GEODETIC',\n",
       "  'data_center': 'ASF',\n",
       "  'dataset_id': 'SENTINEL-1A_SLC',\n",
       "  'day_night_flag': 'UNSPECIFIED',\n",
       "  'granule_size': '2458.79',\n",
       "  'id': 'G1370955137-ASF',\n",
       "  'links': [{'href': 'https://datapool.asf.alaska.edu/SLC/SA/S1A_IW_SLC__1SSV_20170211T141311_20170211T141339_015237_018F50_4FC8.zip',\n",
       "    'hreflang': 'en-US',\n",
       "    'rel': 'http://esipfed.org/ns/fedsearch/1.1/data#'},\n",
       "   {'href': 'https://vertex.daac.asf.alaska.edu/',\n",
       "    'hreflang': 'en-US',\n",
       "    'inherited': True,\n",
       "    'rel': 'http://esipfed.org/ns/fedsearch/1.1/data#'}],\n",
       "  'online_access_flag': True,\n",
       "  'orbit_calculated_spatial_domains': [{'orbit_number': '15237'}],\n",
       "  'original_format': 'ECHO10',\n",
       "  'polygons': [['47.495983 -119.080666 47.890465 -122.433319 46.217083 -122.811638 45.823486 -119.56459 47.495983 -119.080666']],\n",
       "  'producer_granule_id': 'S1A_IW_SLC__1SSV_20170211T141311_20170211T141339_015237_018F50_4FC8',\n",
       "  'time_end': '2017-02-11T14:13:39.000Z',\n",
       "  'time_start': '2017-02-11T14:13:11.000Z',\n",
       "  'title': 'S1A_IW_SLC__1SSV_20170211T141311_20170211T141339_015237_018F50_4FC8-SLC',\n",
       "  'updated': '2017-05-31T11:58:26.000Z'}]"
      ]
     },
     "execution_count": 10,
     "metadata": {},
     "output_type": "execute_result"
    }
   ],
   "source": [
    "granule"
   ]
  },
  {
   "cell_type": "code",
   "execution_count": 11,
   "metadata": {},
   "outputs": [],
   "source": [
    "#C1214470488-ASF  #Sentinel-1A SLCS\n",
    "# echo_collection_id=C1327985661-ASF #Sentinel-1B SLCS"
   ]
  },
  {
   "cell_type": "markdown",
   "metadata": {},
   "source": [
    "# pyCMR"
   ]
  },
  {
   "cell_type": "code",
   "execution_count": 13,
   "metadata": {},
   "outputs": [],
   "source": [
    "from pyCMR.pyCMR import CMR\n",
    "cmr = CMR(\"/Users/scott/Documents/GitHub/pyCMR/cmr.cfg\")"
   ]
  },
  {
   "cell_type": "code",
   "execution_count": 14,
   "metadata": {},
   "outputs": [
    {
     "name": "stdout",
     "output_type": "stream",
     "text": [
      "100\n"
     ]
    }
   ],
   "source": [
    "results = cmr.searchCollection(keyword='precipitation')\n",
    "print(len(results))"
   ]
  },
  {
   "cell_type": "code",
   "execution_count": 15,
   "metadata": {},
   "outputs": [
    {
     "name": "stdout",
     "output_type": "stream",
     "text": [
      "[{'concept-id': 'G1370955137-ASF', 'collection-concept-id': 'C1214470488-ASF', 'revision-id': '4', 'format': 'application/echo10+xml', 'Granule': {'{http://www.w3.org/2001/XMLSchema-instance}noNamespaceSchemaLocation': '', 'GranuleUR': 'S1A_IW_SLC__1SSV_20170211T141311_20170211T141339_015237_018F50_4FC8-SLC', 'InsertTime': '2017-02-17T08:46:51Z', 'LastUpdate': '2017-05-31T11:58:26Z', 'Collection': {'DataSetId': 'SENTINEL-1A_SLC'}, 'DataGranule': {'SizeMBDataGranule': '2458.79', 'ProducerGranuleId': 'S1A_IW_SLC__1SSV_20170211T141311_20170211T141339_015237_018F50_4FC8', 'DayNightFlag': 'UNSPECIFIED', 'ProductionDateTime': '2017-05-31T11:58:26Z'}, 'Temporal': {'RangeDateTime': {'BeginningDateTime': '2017-02-11T14:13:11Z', 'EndingDateTime': '2017-02-11T14:13:39Z'}}, 'Spatial': {'HorizontalSpatialDomain': {'Geometry': {'GPolygon': {'Boundary': {'Point': [{'PointLongitude': '-119.564590', 'PointLatitude': '45.823486'}, {'PointLongitude': '-122.811638', 'PointLatitude': '46.217083'}, {'PointLongitude': '-122.433319', 'PointLatitude': '47.890465'}, {'PointLongitude': '-119.080666', 'PointLatitude': '47.495983'}]}}}}}, 'OrbitCalculatedSpatialDomains': {'OrbitCalculatedSpatialDomain': {'OrbitNumber': '15237'}}, 'Platforms': {'Platform': {'ShortName': 'SENTINEL-1A', 'Instruments': {'Instrument': {'ShortName': 'SENTINEL-1 C-SAR', 'Sensors': {'Sensor': {'ShortName': 'IW'}}}}}}, 'AdditionalAttributes': {'AdditionalAttribute': [{'Name': 'FLIGHT_LINE', 'Values': {'Value': 'NULL'}}, {'Name': 'GROUP_ID', 'Values': {'Value': 'S1A_IWSV_0436_0441_015237_115'}}, {'Name': 'OFF_NADIR_ANGLE', 'Values': {'Value': '-1'}}, {'Name': 'MD5SUM', 'Values': {'Value': '6ae04cd56222768dbf61774230026b88'}}, {'Name': 'GRANULE_TYPE', 'Values': {'Value': 'SENTINEL_1A_FRAME'}}, {'Name': 'ASCENDING_DESCENDING', 'Values': {'Value': 'DESCENDING'}}, {'Name': 'FAR_END_LAT', 'Values': {'Value': '46.2171'}}, {'Name': 'INSAR_STACK_SIZE', 'Values': {'Value': '0'}}, {'Name': 'BEAM_MODE_TYPE', 'Values': {'Value': 'IW'}}, {'Name': 'INSAR_BASELINE', 'Values': {'Value': '0'}}, {'Name': 'CENTER_FRAME_ID', 'Values': {'Value': '2646'}}, {'Name': 'CENTER_ESA_FRAME', 'Values': {'Value': '2646'}}, {'Name': 'ACQUISITION_DATE', 'Values': {'Value': '2017-02-11T14:13:39Z'}}, {'Name': 'MISSION_NAME', 'Values': {'Value': 'NULL'}}, {'Name': 'CENTER_LON', 'Values': {'Value': '-120.9679'}}, {'Name': 'NEAR_START_LAT', 'Values': {'Value': '47.496'}}, {'Name': 'BEAM_MODE', 'Values': {'Value': 'IW'}}, {'Name': 'BEAM_MODE_DESC', 'Values': {'Value': 'Interferometric Wide. 250 km swath, 5 m x 20 m spatial resolution and burst synchronization for interferometry. IW is considered to be the standard mode over land masses.'}}, {'Name': 'PROCESSING_TYPE', 'Values': {'Value': 'SLC'}}, {'Name': 'SV_VELOCITY', 'Values': {'Value': '-3959.60467,-4132.510351,-4986.187727'}}, {'Name': 'FRAME_NUMBER', 'Values': {'Value': '436'}}, {'Name': 'PROCESSING_LEVEL', 'Values': {'Value': 'L1'}}, {'Name': 'PROCESSING_DATE', 'Values': {'Value': '2017-05-31 11:58:26.570362'}}, {'Name': 'SV_POSITION', 'Values': {'Value': '-1966585.336826,-4385696.11795,5183682.984379'}}, {'Name': 'DOPPLER', 'Values': {'Value': '-1'}}, {'Name': 'PROCESSING_DESCRIPTION', 'Values': {'Value': 'Sentinel-1A Single Look Complex product'}}, {'Name': 'NEAR_END_LON', 'Values': {'Value': '-119.5646'}}, {'Name': 'FAR_START_LAT', 'Values': {'Value': '47.8905'}}, {'Name': 'PROCESSING_TYPE_DISPLAY', 'Values': {'Value': 'L1 Single Look Complex (SLC)'}}, {'Name': 'FAR_END_LON', 'Values': {'Value': '-122.8116'}}, {'Name': 'POLARIZATION', 'Values': {'Value': 'VV'}}, {'Name': 'FAR_START_LON', 'Values': {'Value': '-122.4333'}}, {'Name': 'THUMBNAIL_URL', 'Values': {'Value': 'https://datapool.asf.alaska.edu/THUMBNAIL/SA/S1A_IW_GRDH_1SSV_20170211T141313_20170211T141338_015237_018F50_AFFE_thumb.jpg'}}, {'Name': 'ASF_PLATFORM', 'Values': {'Value': 'Sentinel-1A'}}, {'Name': 'INSAR_STACK_ID', 'Values': {'Value': '0'}}, {'Name': 'LOOK_DIRECTION', 'Values': {'Value': 'R'}}, {'Name': 'PATH_NUMBER', 'Values': {'Value': '115'}}, {'Name': 'NEAR_END_LAT', 'Values': {'Value': '45.8235'}}, {'Name': 'FARADAY_ROTATION', 'Values': {'Value': 'NA'}}, {'Name': 'NEAR_START_LON', 'Values': {'Value': '-119.0807'}}, {'Name': 'BYTES', 'Values': {'Value': '2578231558.0'}}, {'Name': 'CENTER_LAT', 'Values': {'Value': '46.8688'}}]}, 'OnlineAccessURLs': {'OnlineAccessURL': {'URL': 'https://datapool.asf.alaska.edu/SLC/SA/S1A_IW_SLC__1SSV_20170211T141311_20170211T141339_015237_018F50_4FC8.zip'}}, 'Orderable': 'true', 'Visible': 'true'}}]\n"
     ]
    }
   ],
   "source": [
    "results = cmr.searchGranule(granule_ur='S1A_IW_SLC__1SSV_20170211T141311_20170211T141339_015237_018F50_4FC8-SLC')\n",
    "print(results) #slow, but works!"
   ]
  },
  {
   "cell_type": "code",
   "execution_count": 16,
   "metadata": {},
   "outputs": [
    {
     "name": "stdout",
     "output_type": "stream",
     "text": [
      "100\n"
     ]
    }
   ],
   "source": [
    "results = cmr.searchGranule(echo_collection_id='C1327985661-ASF')\n",
    "print(len(results)) #slow, but works!"
   ]
  },
  {
   "cell_type": "code",
   "execution_count": 17,
   "metadata": {},
   "outputs": [
    {
     "data": {
      "text/plain": [
       "{'Granule': {'AdditionalAttributes': {'AdditionalAttribute': [{'Name': 'FLIGHT_LINE',\n",
       "     'Values': {'Value': 'NULL'}},\n",
       "    {'Name': 'GROUP_ID', 'Values': {'Value': 'S1B_IWDV_0448_0453_001696_095'}},\n",
       "    {'Name': 'OFF_NADIR_ANGLE', 'Values': {'Value': '-1'}},\n",
       "    {'Name': 'MD5SUM',\n",
       "     'Values': {'Value': '6474772f12e2c057b6722cc264c0b0f5'}},\n",
       "    {'Name': 'GRANULE_TYPE', 'Values': {'Value': 'SENTINEL_1B_FRAME'}},\n",
       "    {'Name': 'ASCENDING_DESCENDING', 'Values': {'Value': 'DESCENDING'}},\n",
       "    {'Name': 'FAR_END_LAT', 'Values': {'Value': '42.7105'}},\n",
       "    {'Name': 'INSAR_STACK_SIZE', 'Values': {'Value': '1'}},\n",
       "    {'Name': 'BEAM_MODE_TYPE', 'Values': {'Value': 'IW'}},\n",
       "    {'Name': 'INSAR_BASELINE', 'Values': {'Value': '0'}},\n",
       "    {'Name': 'CENTER_FRAME_ID', 'Values': {'Value': '2717'}},\n",
       "    {'Name': 'CENTER_ESA_FRAME', 'Values': {'Value': '2717'}},\n",
       "    {'Name': 'ACQUISITION_DATE', 'Values': {'Value': '2016-08-20T05:19:07Z'}},\n",
       "    {'Name': 'MISSION_NAME', 'Values': {'Value': 'NULL'}},\n",
       "    {'Name': 'CENTER_LON', 'Values': {'Value': '11.8643'}},\n",
       "    {'Name': 'NEAR_START_LAT', 'Values': {'Value': '43.9279'}},\n",
       "    {'Name': 'BEAM_MODE', 'Values': {'Value': 'IW'}},\n",
       "    {'Name': 'BEAM_MODE_DESC',\n",
       "     'Values': {'Value': 'Interferometric Wide. 250 km swath, 5 m x 20 m spatial resolution and burst synchronization for interferometry. IW is considered to be the standard mode over land masses.'}},\n",
       "    {'Name': 'PROCESSING_TYPE', 'Values': {'Value': 'SLC'}},\n",
       "    {'Name': 'SV_VELOCITY',\n",
       "     'Values': {'Value': '5395.147984,-168.443639,-5338.576659'}},\n",
       "    {'Name': 'FRAME_NUMBER', 'Values': {'Value': '448'}},\n",
       "    {'Name': 'PROCESSING_LEVEL', 'Values': {'Value': 'L1'}},\n",
       "    {'Name': 'PROCESSING_DATE',\n",
       "     'Values': {'Value': '2016-09-26 19:28:45.879705'}},\n",
       "    {'Name': 'SV_POSITION',\n",
       "     'Values': {'Value': '4874617.373207,1604258.472118,4862638.71421'}},\n",
       "    {'Name': 'DOPPLER', 'Values': {'Value': '-1'}},\n",
       "    {'Name': 'PROCESSING_DESCRIPTION',\n",
       "     'Values': {'Value': 'Sentinel-1B Single Look Complex product'}},\n",
       "    {'Name': 'NEAR_END_LON', 'Values': {'Value': '13.2174'}},\n",
       "    {'Name': 'FAR_START_LAT', 'Values': {'Value': '44.328'}},\n",
       "    {'Name': 'PROCESSING_TYPE_DISPLAY',\n",
       "     'Values': {'Value': 'L1 Single Look Complex (SLC)'}},\n",
       "    {'Name': 'FAR_END_LON', 'Values': {'Value': '10.1111'}},\n",
       "    {'Name': 'POLARIZATION', 'Values': {'Value': 'VV+VH'}},\n",
       "    {'Name': 'FAR_START_LON', 'Values': {'Value': '10.459'}},\n",
       "    {'Name': 'THUMBNAIL_URL', 'Values': {'Value': 'NULL'}},\n",
       "    {'Name': 'ASF_PLATFORM', 'Values': {'Value': 'Sentinel-1B'}},\n",
       "    {'Name': 'INSAR_STACK_ID', 'Values': {'Value': '2915466'}},\n",
       "    {'Name': 'LOOK_DIRECTION', 'Values': {'Value': 'R'}},\n",
       "    {'Name': 'PATH_NUMBER', 'Values': {'Value': '95'}},\n",
       "    {'Name': 'NEAR_END_LAT', 'Values': {'Value': '42.3102'}},\n",
       "    {'Name': 'FARADAY_ROTATION', 'Values': {'Value': 'NA'}},\n",
       "    {'Name': 'NEAR_START_LON', 'Values': {'Value': '13.6519'}},\n",
       "    {'Name': 'BYTES', 'Values': {'Value': '4796454750.0'}},\n",
       "    {'Name': 'CENTER_LAT', 'Values': {'Value': '43.3301'}}]},\n",
       "  'Collection': {'DataSetId': 'SENTINEL-1B_SLC'},\n",
       "  'DataGranule': {'DayNightFlag': 'UNSPECIFIED',\n",
       "   'ProducerGranuleId': 'S1B_IW_SLC__1SDV_20160820T051840_20160820T051907_001696_002693_82CA',\n",
       "   'ProductionDateTime': '2016-09-26T19:28:45Z',\n",
       "   'SizeMBDataGranule': '4574.25'},\n",
       "  'GranuleUR': 'S1B_IW_SLC__1SDV_20160820T051840_20160820T051907_001696_002693_82CA-SLC',\n",
       "  'InsertTime': '2016-09-13T20:47:56Z',\n",
       "  'LastUpdate': '2016-09-26T19:28:45Z',\n",
       "  'OnlineAccessURLs': {'OnlineAccessURL': {'URL': 'https://datapool.asf.alaska.edu/SLC/SB/S1B_IW_SLC__1SDV_20160820T051840_20160820T051907_001696_002693_82CA.zip'}},\n",
       "  'OrbitCalculatedSpatialDomains': {'OrbitCalculatedSpatialDomain': {'OrbitNumber': '1696'}},\n",
       "  'Orderable': 'true',\n",
       "  'Platforms': {'Platform': {'Instruments': {'Instrument': {'Sensors': {'Sensor': {'ShortName': 'IW'}},\n",
       "      'ShortName': 'SENTINEL-1 C-SAR'}},\n",
       "    'ShortName': 'SENTINEL-1B'}},\n",
       "  'Spatial': {'HorizontalSpatialDomain': {'Geometry': {'GPolygon': {'Boundary': {'Point': [{'PointLatitude': '42.310154',\n",
       "         'PointLongitude': '13.217380'},\n",
       "        {'PointLatitude': '42.710457', 'PointLongitude': '10.111057'},\n",
       "        {'PointLatitude': '44.328026', 'PointLongitude': '10.459038'},\n",
       "        {'PointLatitude': '43.927921', 'PointLongitude': '13.651857'}]}}}}},\n",
       "  'Temporal': {'RangeDateTime': {'BeginningDateTime': '2016-08-20T05:18:40Z',\n",
       "    'EndingDateTime': '2016-08-20T05:19:07Z'}},\n",
       "  'Visible': 'true',\n",
       "  '{http://www.w3.org/2001/XMLSchema-instance}noNamespaceSchemaLocation': ''},\n",
       " 'collection-concept-id': 'C1327985661-ASF',\n",
       " 'concept-id': 'G1343104712-ASF',\n",
       " 'format': 'application/echo10+xml',\n",
       " 'revision-id': '2'}"
      ]
     },
     "execution_count": 17,
     "metadata": {},
     "output_type": "execute_result"
    }
   ],
   "source": [
    "results[0]"
   ]
  },
  {
   "cell_type": "code",
   "execution_count": 18,
   "metadata": {},
   "outputs": [
    {
     "name": "stdout",
     "output_type": "stream",
     "text": [
      "100\n"
     ]
    },
    {
     "data": {
      "text/plain": [
       "{'Granule': {'AdditionalAttributes': {'AdditionalAttribute': [{'Name': 'FLIGHT_LINE',\n",
       "     'Values': {'Value': 'NULL'}},\n",
       "    {'Name': 'GROUP_ID', 'Values': {'Value': 'S1B_IWDV_0448_0453_001696_095'}},\n",
       "    {'Name': 'OFF_NADIR_ANGLE', 'Values': {'Value': '-1'}},\n",
       "    {'Name': 'MD5SUM',\n",
       "     'Values': {'Value': '6474772f12e2c057b6722cc264c0b0f5'}},\n",
       "    {'Name': 'GRANULE_TYPE', 'Values': {'Value': 'SENTINEL_1B_FRAME'}},\n",
       "    {'Name': 'ASCENDING_DESCENDING', 'Values': {'Value': 'DESCENDING'}},\n",
       "    {'Name': 'FAR_END_LAT', 'Values': {'Value': '42.7105'}},\n",
       "    {'Name': 'INSAR_STACK_SIZE', 'Values': {'Value': '1'}},\n",
       "    {'Name': 'BEAM_MODE_TYPE', 'Values': {'Value': 'IW'}},\n",
       "    {'Name': 'INSAR_BASELINE', 'Values': {'Value': '0'}},\n",
       "    {'Name': 'CENTER_FRAME_ID', 'Values': {'Value': '2717'}},\n",
       "    {'Name': 'CENTER_ESA_FRAME', 'Values': {'Value': '2717'}},\n",
       "    {'Name': 'ACQUISITION_DATE', 'Values': {'Value': '2016-08-20T05:19:07Z'}},\n",
       "    {'Name': 'MISSION_NAME', 'Values': {'Value': 'NULL'}},\n",
       "    {'Name': 'CENTER_LON', 'Values': {'Value': '11.8643'}},\n",
       "    {'Name': 'NEAR_START_LAT', 'Values': {'Value': '43.9279'}},\n",
       "    {'Name': 'BEAM_MODE', 'Values': {'Value': 'IW'}},\n",
       "    {'Name': 'BEAM_MODE_DESC',\n",
       "     'Values': {'Value': 'Interferometric Wide. 250 km swath, 5 m x 20 m spatial resolution and burst synchronization for interferometry. IW is considered to be the standard mode over land masses.'}},\n",
       "    {'Name': 'PROCESSING_TYPE', 'Values': {'Value': 'SLC'}},\n",
       "    {'Name': 'SV_VELOCITY',\n",
       "     'Values': {'Value': '5395.147984,-168.443639,-5338.576659'}},\n",
       "    {'Name': 'FRAME_NUMBER', 'Values': {'Value': '448'}},\n",
       "    {'Name': 'PROCESSING_LEVEL', 'Values': {'Value': 'L1'}},\n",
       "    {'Name': 'PROCESSING_DATE',\n",
       "     'Values': {'Value': '2016-09-26 19:28:45.879705'}},\n",
       "    {'Name': 'SV_POSITION',\n",
       "     'Values': {'Value': '4874617.373207,1604258.472118,4862638.71421'}},\n",
       "    {'Name': 'DOPPLER', 'Values': {'Value': '-1'}},\n",
       "    {'Name': 'PROCESSING_DESCRIPTION',\n",
       "     'Values': {'Value': 'Sentinel-1B Single Look Complex product'}},\n",
       "    {'Name': 'NEAR_END_LON', 'Values': {'Value': '13.2174'}},\n",
       "    {'Name': 'FAR_START_LAT', 'Values': {'Value': '44.328'}},\n",
       "    {'Name': 'PROCESSING_TYPE_DISPLAY',\n",
       "     'Values': {'Value': 'L1 Single Look Complex (SLC)'}},\n",
       "    {'Name': 'FAR_END_LON', 'Values': {'Value': '10.1111'}},\n",
       "    {'Name': 'POLARIZATION', 'Values': {'Value': 'VV+VH'}},\n",
       "    {'Name': 'FAR_START_LON', 'Values': {'Value': '10.459'}},\n",
       "    {'Name': 'THUMBNAIL_URL', 'Values': {'Value': 'NULL'}},\n",
       "    {'Name': 'ASF_PLATFORM', 'Values': {'Value': 'Sentinel-1B'}},\n",
       "    {'Name': 'INSAR_STACK_ID', 'Values': {'Value': '2915466'}},\n",
       "    {'Name': 'LOOK_DIRECTION', 'Values': {'Value': 'R'}},\n",
       "    {'Name': 'PATH_NUMBER', 'Values': {'Value': '95'}},\n",
       "    {'Name': 'NEAR_END_LAT', 'Values': {'Value': '42.3102'}},\n",
       "    {'Name': 'FARADAY_ROTATION', 'Values': {'Value': 'NA'}},\n",
       "    {'Name': 'NEAR_START_LON', 'Values': {'Value': '13.6519'}},\n",
       "    {'Name': 'BYTES', 'Values': {'Value': '4796454750.0'}},\n",
       "    {'Name': 'CENTER_LAT', 'Values': {'Value': '43.3301'}}]},\n",
       "  'Collection': {'DataSetId': 'SENTINEL-1B_SLC'},\n",
       "  'DataGranule': {'DayNightFlag': 'UNSPECIFIED',\n",
       "   'ProducerGranuleId': 'S1B_IW_SLC__1SDV_20160820T051840_20160820T051907_001696_002693_82CA',\n",
       "   'ProductionDateTime': '2016-09-26T19:28:45Z',\n",
       "   'SizeMBDataGranule': '4574.25'},\n",
       "  'GranuleUR': 'S1B_IW_SLC__1SDV_20160820T051840_20160820T051907_001696_002693_82CA-SLC',\n",
       "  'InsertTime': '2016-09-13T20:47:56Z',\n",
       "  'LastUpdate': '2016-09-26T19:28:45Z',\n",
       "  'OnlineAccessURLs': {'OnlineAccessURL': {'URL': 'https://datapool.asf.alaska.edu/SLC/SB/S1B_IW_SLC__1SDV_20160820T051840_20160820T051907_001696_002693_82CA.zip'}},\n",
       "  'OrbitCalculatedSpatialDomains': {'OrbitCalculatedSpatialDomain': {'OrbitNumber': '1696'}},\n",
       "  'Orderable': 'true',\n",
       "  'Platforms': {'Platform': {'Instruments': {'Instrument': {'Sensors': {'Sensor': {'ShortName': 'IW'}},\n",
       "      'ShortName': 'SENTINEL-1 C-SAR'}},\n",
       "    'ShortName': 'SENTINEL-1B'}},\n",
       "  'Spatial': {'HorizontalSpatialDomain': {'Geometry': {'GPolygon': {'Boundary': {'Point': [{'PointLatitude': '42.310154',\n",
       "         'PointLongitude': '13.217380'},\n",
       "        {'PointLatitude': '42.710457', 'PointLongitude': '10.111057'},\n",
       "        {'PointLatitude': '44.328026', 'PointLongitude': '10.459038'},\n",
       "        {'PointLatitude': '43.927921', 'PointLongitude': '13.651857'}]}}}}},\n",
       "  'Temporal': {'RangeDateTime': {'BeginningDateTime': '2016-08-20T05:18:40Z',\n",
       "    'EndingDateTime': '2016-08-20T05:19:07Z'}},\n",
       "  'Visible': 'true',\n",
       "  '{http://www.w3.org/2001/XMLSchema-instance}noNamespaceSchemaLocation': ''},\n",
       " 'collection-concept-id': 'C1327985661-ASF',\n",
       " 'concept-id': 'G1343104712-ASF',\n",
       " 'format': 'application/echo10+xml',\n",
       " 'revision-id': '2'}"
      ]
     },
     "execution_count": 18,
     "metadata": {},
     "output_type": "execute_result"
    }
   ],
   "source": [
    "#results = cmr.searchGranule(dataset_id='SENTINEL-1B_SLC')\n",
    "results = cmr.searchGranule(entry_title='SENTINEL-1B_SLC') #entry_title = dataset_id\n",
    "print(len(results)) #slow, but works!\n",
    "results[0]"
   ]
  },
  {
   "cell_type": "code",
   "execution_count": 19,
   "metadata": {},
   "outputs": [
    {
     "name": "stdout",
     "output_type": "stream",
     "text": [
      "35\n"
     ]
    },
    {
     "data": {
      "text/plain": [
       "{'Granule': {'AdditionalAttributes': {'AdditionalAttribute': [{'Name': 'ACQUISITION_DATE',\n",
       "     'Values': {'Value': '2017-10-12T01:53:38.212757'}},\n",
       "    {'Name': 'ASCENDING_DESCENDING', 'Values': {'Value': 'ASCENDING'}},\n",
       "    {'Name': 'ASF_PLATFORM', 'Values': {'Value': 'Sentinel-1B'}},\n",
       "    {'Name': 'BEAM_MODE', 'Values': {'Value': 'IW'}},\n",
       "    {'Name': 'BEAM_MODE_DESC',\n",
       "     'Values': {'Value': 'Interferometric Wide. 250 km swath, 5 m x 20 m spatial resolution and burst synchronization for interferometry. IW is considered to be the standard mode over land masses.'}},\n",
       "    {'Name': 'BEAM_MODE_TYPE', 'Values': {'Value': 'IW'}},\n",
       "    {'Name': 'BYTES', 'Values': {'Value': '4698416381'}},\n",
       "    {'Name': 'CENTER_ESA_FRAME', 'Values': {'Value': '958'}},\n",
       "    {'Name': 'CENTER_FRAME_ID', 'Values': {'Value': '155'}},\n",
       "    {'Name': 'CENTER_LAT', 'Values': {'Value': '47.9307'}},\n",
       "    {'Name': 'CENTER_LON', 'Values': {'Value': '-120.7291'}},\n",
       "    {'Name': 'DOPPLER', 'Values': {'Value': '0'}},\n",
       "    {'Name': 'FARADAY_ROTATION', 'Values': {'Value': 'NA'}},\n",
       "    {'Name': 'FAR_END_LAT', 'Values': {'Value': '48.954056'}},\n",
       "    {'Name': 'FAR_END_LON', 'Values': {'Value': '-119.217827'}},\n",
       "    {'Name': 'FAR_START_LAT', 'Values': {'Value': '47.280518'}},\n",
       "    {'Name': 'FAR_START_LON', 'Values': {'Value': '-118.833061'}},\n",
       "    {'Name': 'FRAME_NUMBER', 'Values': {'Value': '153'}},\n",
       "    {'Name': 'GRANULE_TYPE', 'Values': {'Value': 'SENTINEL_1B_FRAME'}},\n",
       "    {'Name': 'GROUP_ID', 'Values': {'Value': 'S1B_IWDV_0153_0158_007790_064'}},\n",
       "    {'Name': 'LOOK_DIRECTION', 'Values': {'Value': 'R'}},\n",
       "    {'Name': 'MD5SUM',\n",
       "     'Values': {'Value': '0da7f8ed1690a6f2d769ca7ba8545e00'}},\n",
       "    {'Name': 'MISSION_NAME', 'Values': {'Value': 'NA'}},\n",
       "    {'Name': 'NEAR_END_LAT', 'Values': {'Value': '48.554779'}},\n",
       "    {'Name': 'NEAR_END_LON', 'Values': {'Value': '-122.671318'}},\n",
       "    {'Name': 'NEAR_START_LAT', 'Values': {'Value': '46.882545'}},\n",
       "    {'Name': 'NEAR_START_LON', 'Values': {'Value': '-122.173874'}},\n",
       "    {'Name': 'PATH_NUMBER', 'Values': {'Value': '64'}},\n",
       "    {'Name': 'POLARIZATION', 'Values': {'Value': 'VV+VH'}},\n",
       "    {'Name': 'PROCESSING_DATE',\n",
       "     'Values': {'Value': '2017-10-14 15:53:06.377658'}},\n",
       "    {'Name': 'PROCESSING_DESCRIPTION',\n",
       "     'Values': {'Value': 'Sentinel-1B Single Look Complex product'}},\n",
       "    {'Name': 'PROCESSING_LEVEL', 'Values': {'Value': 'L1'}},\n",
       "    {'Name': 'PROCESSING_TYPE', 'Values': {'Value': 'SLC'}},\n",
       "    {'Name': 'PROCESSING_TYPE_DISPLAY',\n",
       "     'Values': {'Value': 'L1 Single Look Complex (SLC)'}}]},\n",
       "  'Collection': {'DataSetId': 'SENTINEL-1B_SLC'},\n",
       "  'DataGranule': {'DayNightFlag': 'UNSPECIFIED',\n",
       "   'ProducerGranuleId': 'S1B_IW_SLC__1SDV_20171012T015310_20171012T015338_007790_00DC24_4ABE',\n",
       "   'ProductionDateTime': '2017-10-12T01:53:10.275691',\n",
       "   'SizeMBDataGranule': '4480.759030342102'},\n",
       "  'GranuleUR': 'S1B_IW_SLC__1SDV_20171012T015310_20171012T015338_007790_00DC24_4ABE-SLC',\n",
       "  'InputGranules': {'InputGranule': 'S1B_IW_SLC__1SDV_20171012T015310_20171012T015338_007790_00DC24_4ABE'},\n",
       "  'InsertTime': '2017-10-14T15:53:12Z',\n",
       "  'LastUpdate': '2017-10-14T15:53:12Z',\n",
       "  'OnlineAccessURLs': {'OnlineAccessURL': {'URL': 'https://datapool.asf.alaska.edu/SLC/SB/S1B_IW_SLC__1SDV_20171012T015310_20171012T015338_007790_00DC24_4ABE.zip'}},\n",
       "  'OrbitCalculatedSpatialDomains': {'OrbitCalculatedSpatialDomain': {'OrbitNumber': '7790'}},\n",
       "  'Orderable': 'true',\n",
       "  'Platforms': {'Platform': {'Instruments': {'Instrument': {'Sensors': {'Sensor': {'ShortName': 'IW'}},\n",
       "      'ShortName': 'SENTINEL-1 C-SAR'}},\n",
       "    'ShortName': 'SENTINEL-1B'}},\n",
       "  'Spatial': {'HorizontalSpatialDomain': {'Geometry': {'GPolygon': {'Boundary': {'Point': [{'PointLatitude': '48.554779',\n",
       "         'PointLongitude': '-122.671318'},\n",
       "        {'PointLatitude': '48.954056', 'PointLongitude': '-119.217827'},\n",
       "        {'PointLatitude': '47.280518', 'PointLongitude': '-118.833061'},\n",
       "        {'PointLatitude': '46.882545', 'PointLongitude': '-122.173874'}]}}}}},\n",
       "  'Temporal': {'RangeDateTime': {'BeginningDateTime': '2017-10-12T01:53:10.275691',\n",
       "    'EndingDateTime': '2017-10-12T01:53:38.212757'}},\n",
       "  'Visible': 'true',\n",
       "  '{http://www.w3.org/2001/XMLSchema-instance}noNamespaceSchemaLocation': ''},\n",
       " 'collection-concept-id': 'C1327985661-ASF',\n",
       " 'concept-id': 'G1427183289-ASF',\n",
       " 'format': 'application/echo10+xml',\n",
       " 'revision-id': '1'}"
      ]
     },
     "execution_count": 19,
     "metadata": {},
     "output_type": "execute_result"
    }
   ],
   "source": [
    "# Add search bbox\n",
    "results = cmr.searchGranule(entry_title='SENTINEL-1B_SLC', \n",
    "                            temporal=\"2017-10-10T00:00:00Z,2018-01-07T00:00:00Z\",\n",
    "                            bounding_box='-122.4,47.4,-122.1,47.7') \n",
    "print(len(results)) #slow, but works!\n",
    "results[0]\n",
    "#for res in results:\n",
    "#    print(res.getDownloadUrl()) #returns none"
   ]
  },
  {
   "cell_type": "code",
   "execution_count": null,
   "metadata": {},
   "outputs": [],
   "source": []
  }
 ],
 "metadata": {
  "kernelspec": {
   "display_name": "Python 3",
   "language": "python",
   "name": "python3"
  },
  "language_info": {
   "codemirror_mode": {
    "name": "ipython",
    "version": 3
   },
   "file_extension": ".py",
   "mimetype": "text/x-python",
   "name": "python",
   "nbconvert_exporter": "python",
   "pygments_lexer": "ipython3",
   "version": "3.6.4"
  }
 },
 "nbformat": 4,
 "nbformat_minor": 2
}
